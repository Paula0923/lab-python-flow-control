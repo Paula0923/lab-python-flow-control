{
 "cells": [
  {
   "cell_type": "markdown",
   "id": "d3bfc191-8885-42ee-b0a0-bbab867c6f9f",
   "metadata": {
    "tags": []
   },
   "source": [
    "# Lab | Flow Control"
   ]
  },
  {
   "cell_type": "markdown",
   "id": "3851fcd1-cf98-4653-9c89-e003b7ec9400",
   "metadata": {},
   "source": [
    "## Exercise: Managing Customer Orders Optimized\n",
    "\n",
    "In the last lab, you were starting an online store that sells various products. To ensure smooth operations, you developed a program that manages customer orders and inventory.\n",
    "\n",
    "You did so without using flow control. Let's go a step further and improve this code.\n",
    "\n",
    "Follow the steps below to complete the exercise:\n",
    "\n",
    "1. Look at your code from the lab data structures, and improve repeated code with loops.\n",
    "\n",
    "2. Instead of asking the user to input the name of three products that a customer wants to order, do the following:\n",
    "    \n",
    "    a. Prompt the user to enter the name of a product that a customer wants to order.\n",
    "    \n",
    "    b. Add the product name to the \"customer_orders\" set.\n",
    "    \n",
    "    c. Ask the user if they want to add another product (yes/no).\n",
    "    \n",
    "    d. Continue the loop until the user does not want to add another product.\n",
    "\n",
    "3. Instead of updating the inventory by subtracting 1 from the quantity of each product, only do it for  the products that were ordered (those in \"customer_orders\")."
   ]
  },
  {
   "cell_type": "code",
   "execution_count": 3,
   "id": "8f844d18-d9c7-4ecb-b7f4-801b73bdda9d",
   "metadata": {},
   "outputs": [],
   "source": [
    "### Exercise 1: Look at your code from the lab data structures, and improve repeated code with loops"
   ]
  },
  {
   "cell_type": "code",
   "execution_count": 4,
   "id": "e28c12a0-b6e1-41c0-939d-7b33389e045c",
   "metadata": {},
   "outputs": [],
   "source": [
    "# CODE 1 for loop for filling inventory"
   ]
  },
  {
   "cell_type": "code",
   "execution_count": 5,
   "id": "ea7a2ca3-6ba2-44d2-9910-2af180a9f252",
   "metadata": {},
   "outputs": [],
   "source": [
    "# create a new list named products\n",
    "products = [\"t-shirt\", \"mug\", \"hat\", \"book\", \"keychain\"]"
   ]
  },
  {
   "cell_type": "code",
   "execution_count": 6,
   "id": "67d8703f-0d4c-4431-b967-80e27dd93589",
   "metadata": {},
   "outputs": [],
   "source": [
    "# create an empty dictionary\n",
    "inventory = {}"
   ]
  },
  {
   "cell_type": "code",
   "execution_count": 7,
   "id": "630dc95e-c75a-43cc-a060-033334f11731",
   "metadata": {},
   "outputs": [
    {
     "name": "stdin",
     "output_type": "stream",
     "text": [
      "How many t-shirts are in stock? Please enter an integer:  5\n",
      "How many mugs are in stock? Please enter an integer:  5\n",
      "How many hats are in stock? Please enter an integer:  5\n",
      "How many books are in stock? Please enter an integer:  5\n",
      "How many keychains are in stock? Please enter an integer:  5\n"
     ]
    }
   ],
   "source": [
    "# loop \n",
    "for product in products:\n",
    "    quantity = int(input(f\"How many {product}s are in stock? Please enter an integer: \"))\n",
    "    inventory[product] = quantity"
   ]
  },
  {
   "cell_type": "code",
   "execution_count": 8,
   "id": "ebb95be9-8796-4afa-b0de-8220277de19b",
   "metadata": {},
   "outputs": [],
   "source": [
    "# OLD CODE 2 while loop for filling customer_orders and update quantities in inventory"
   ]
  },
  {
   "cell_type": "code",
   "execution_count": 9,
   "id": "7511ca34-80d4-4541-a01d-b737985e088c",
   "metadata": {},
   "outputs": [
    {
     "name": "stdin",
     "output_type": "stream",
     "text": [
      "Input the name of a product you would like to order from this list:\n",
      "['t-shirt', 'mug', 'hat', 'book', 'keychain'] mug\n",
      "Input the name of a product you would like to order from this list:\n",
      "['t-shirt', 'mug', 'hat', 'book', 'keychain'] book\n",
      "Input the name of a product you would like to order from this list:\n",
      "['t-shirt', 'mug', 'hat', 'book', 'keychain'] hat\n"
     ]
    },
    {
     "name": "stdout",
     "output_type": "stream",
     "text": [
      "\n",
      "The customer ordered: {'hat', 'mug', 'book'}\n"
     ]
    }
   ],
   "source": [
    "# create a new set\n",
    "customer_orders = set()\n",
    "\n",
    "while len(customer_orders) < 3:\n",
    "    order = input(f\"Input the name of a product you would like to order from this list:\\n{products}\")\n",
    "    if order in inventory:\n",
    "        customer_orders.add(order)\n",
    "        inventory[order] -= 1\n",
    "    else:\n",
    "        print(\"This item is not available\")\n",
    "\n",
    "print(\"\")\n",
    "print(f\"The customer ordered: {customer_orders}\")"
   ]
  },
  {
   "cell_type": "code",
   "execution_count": 10,
   "id": "0de143f8-2489-4591-ae4a-7b20242eff71",
   "metadata": {},
   "outputs": [
    {
     "name": "stdout",
     "output_type": "stream",
     "text": [
      "{'t-shirt': 5, 'mug': 4, 'hat': 4, 'book': 4, 'keychain': 5}\n"
     ]
    }
   ],
   "source": [
    "print(inventory)"
   ]
  },
  {
   "cell_type": "code",
   "execution_count": 11,
   "id": "27682ac6-492e-407f-8497-981cb7e37c71",
   "metadata": {},
   "outputs": [
    {
     "name": "stdout",
     "output_type": "stream",
     "text": [
      "Product t-shirt has 5 pieces left\n",
      "Product mug has 4 pieces left\n",
      "Product hat has 4 pieces left\n",
      "Product book has 4 pieces left\n",
      "Product keychain has 5 pieces left\n"
     ]
    }
   ],
   "source": [
    "# for loop to print updates inventory\n",
    "\n",
    "for key, value in inventory.items():\n",
    "    print(f\"Product {key} has {value} pieces left\")"
   ]
  },
  {
   "cell_type": "code",
   "execution_count": null,
   "id": "bfdf002d-97c3-4f36-8286-4a8d34ac6a46",
   "metadata": {},
   "outputs": [],
   "source": []
  },
  {
   "cell_type": "code",
   "execution_count": 12,
   "id": "6e516263-6b67-4451-b6e4-37e880dd5ec4",
   "metadata": {},
   "outputs": [],
   "source": [
    "### Exercise 2: Instead of asking the user to input the name of three products that\n",
    "### a customer wants to order, do the following:"
   ]
  },
  {
   "cell_type": "code",
   "execution_count": 13,
   "id": "15a4006a-7f0a-4f8e-8ac7-adb45663c34d",
   "metadata": {},
   "outputs": [],
   "source": [
    "## 2 a) Prompt the user to enter the name of a product that a customer wants to order"
   ]
  },
  {
   "cell_type": "code",
   "execution_count": 14,
   "id": "5f957f57-b752-4f98-bd8e-dbc10fa66566",
   "metadata": {},
   "outputs": [
    {
     "name": "stdin",
     "output_type": "stream",
     "text": [
      "Please choose the product you want to order from this list: ['t-shirt', 'mug', 'hat', 'book', 'keychain'] mug\n"
     ]
    }
   ],
   "source": [
    "order_new = input(f\"Please choose the product you want to order from this list: {products}\")"
   ]
  },
  {
   "cell_type": "code",
   "execution_count": 15,
   "id": "369adefe-0757-4775-9901-a0aa2f0d3933",
   "metadata": {},
   "outputs": [],
   "source": [
    "## 2 b) Add the product name to the \"customer_orders\" set."
   ]
  },
  {
   "cell_type": "code",
   "execution_count": 16,
   "id": "a086f7ea-c2b6-414d-b052-7380a9b48194",
   "metadata": {},
   "outputs": [
    {
     "name": "stdout",
     "output_type": "stream",
     "text": [
      "The order now contains the following products: {'hat', 'mug', 'book'}\n"
     ]
    }
   ],
   "source": [
    "customer_orders.add(order_new)\n",
    "print(f\"The order now contains the following products: {customer_orders}\")"
   ]
  },
  {
   "cell_type": "code",
   "execution_count": 17,
   "id": "090c8a9f-225c-4b85-b205-f4daaa58ee8e",
   "metadata": {},
   "outputs": [],
   "source": [
    "## 2 c) Ask the user if they want to add another product (yes/no)\n",
    "## and d) Continue the loop until the user does not want to add another product"
   ]
  },
  {
   "cell_type": "code",
   "execution_count": 51,
   "id": "9a7565e6-ac1c-4584-a14c-3d6d08ded8b5",
   "metadata": {},
   "outputs": [
    {
     "name": "stdin",
     "output_type": "stream",
     "text": [
      "Do you want to add another product? Please state 'yes' or 'no' YES\n",
      "Please choose the product you want to order from this list: ['t-shirt', 'mug', 'hat', 'book', 'keychain'] T-Shirt\n",
      "Do you want to add another product? Please state 'yes' or 'no' yes\n",
      "Please choose the product you want to order from this list: ['t-shirt', 'mug', 'hat', 'book', 'keychain'] watch\n"
     ]
    },
    {
     "name": "stdout",
     "output_type": "stream",
     "text": [
      "I did not understand your input, please choose a product from this list: ['t-shirt', 'mug', 'hat', 'book', 'keychain']\n"
     ]
    },
    {
     "name": "stdin",
     "output_type": "stream",
     "text": [
      "Do you want to add another product? Please state 'yes' or 'no' yes\n",
      "Please choose the product you want to order from this list: ['t-shirt', 'mug', 'hat', 'book', 'keychain'] Mug\n",
      "Do you want to add another product? Please state 'yes' or 'no' yes\n",
      "Please choose the product you want to order from this list: ['t-shirt', 'mug', 'hat', 'book', 'keychain'] keychain\n",
      "Do you want to add another product? Please state 'yes' or 'no' yes\n",
      "Please choose the product you want to order from this list: ['t-shirt', 'mug', 'hat', 'book', 'keychain'] hat\n",
      "Do you want to add another product? Please state 'yes' or 'no' dd\n"
     ]
    },
    {
     "name": "stdout",
     "output_type": "stream",
     "text": [
      "I did not understand your input\n"
     ]
    },
    {
     "name": "stdin",
     "output_type": "stream",
     "text": [
      "Do you want to add another product? Please state 'yes' or 'no' no\n"
     ]
    },
    {
     "name": "stdout",
     "output_type": "stream",
     "text": [
      "Thank you, your order is now completed\n"
     ]
    }
   ],
   "source": [
    "another_product = input(\"Do you want to add another product? Please state 'yes' or 'no'\").lower()\n",
    "\n",
    "while True:\n",
    "    if another_product == \"yes\":\n",
    "        order_new = input(f\"Please choose the product you want to order from this list: {products}\").lower()\n",
    "        if order_new in inventory:\n",
    "            customer_orders.add(order_new)\n",
    "            inventory[order_new] -= 1\n",
    "        elif order_new not in products:\n",
    "            print(f\"I did not understand your input, please choose a product from this list: {products}\")\n",
    "        another_product = input(\"Do you want to add another product? Please state 'yes' or 'no'\").lower()\n",
    "    elif another_product == \"no\":\n",
    "        print(\"Thank you, your order is now completed\")\n",
    "        break\n",
    "    else:\n",
    "        print(\"I did not understand your input\")\n",
    "        another_product = input(\"Do you want to add another product? Please state 'yes' or 'no'\").lower()"
   ]
  },
  {
   "cell_type": "code",
   "execution_count": 53,
   "id": "32593b8c-56b5-4e37-ac20-505b6298205c",
   "metadata": {},
   "outputs": [
    {
     "name": "stdout",
     "output_type": "stream",
     "text": [
      "The order now contains the following products: {'t-shirt', 'book', 'keychain', 'hat', 'mug'} and is completed\n"
     ]
    }
   ],
   "source": [
    "print(f\"The order now contains the following products: {customer_orders} and is completed\")"
   ]
  },
  {
   "cell_type": "code",
   "execution_count": 21,
   "id": "a04592cf-a700-4968-965f-274d628d9ca7",
   "metadata": {},
   "outputs": [],
   "source": [
    "### Exercise 3: Instead of updating the inventory by subtracting 1 from the quantity\n",
    "### of each product, only do it for the products that were ordered\n",
    "### (those in \"customer_orders\").\n",
    "\n",
    "# done that in the while loop above"
   ]
  },
  {
   "cell_type": "code",
   "execution_count": 55,
   "id": "ae717bde-adc9-4829-9a98-2da29b0d7db5",
   "metadata": {},
   "outputs": [
    {
     "name": "stdout",
     "output_type": "stream",
     "text": [
      "Product t-shirt has 3 pieces left\n",
      "Product mug has 3 pieces left\n",
      "Product hat has 3 pieces left\n",
      "Product book has 4 pieces left\n",
      "Product keychain has 3 pieces left\n"
     ]
    }
   ],
   "source": [
    "for key, value in inventory.items():\n",
    "    print(f\"Product {key} has {value} pieces left\")"
   ]
  }
 ],
 "metadata": {
  "kernelspec": {
   "display_name": "Python 3 (ipykernel)",
   "language": "python",
   "name": "python3"
  },
  "language_info": {
   "codemirror_mode": {
    "name": "ipython",
    "version": 3
   },
   "file_extension": ".py",
   "mimetype": "text/x-python",
   "name": "python",
   "nbconvert_exporter": "python",
   "pygments_lexer": "ipython3",
   "version": "3.11.7"
  }
 },
 "nbformat": 4,
 "nbformat_minor": 5
}
